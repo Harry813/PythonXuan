{
 "cells": [
  {
   "cell_type": "markdown",
   "source": [
    "# 小六壬\n",
    "最近蛮火的"
   ],
   "metadata": {
    "collapsed": false
   },
   "id": "a009e32031d956bb"
  }
 ],
 "metadata": {
  "kernelspec": {
   "display_name": "Python 3",
   "language": "python",
   "name": "python3"
  },
  "language_info": {
   "codemirror_mode": {
    "name": "ipython",
    "version": 2
   },
   "file_extension": ".py",
   "mimetype": "text/x-python",
   "name": "python",
   "nbconvert_exporter": "python",
   "pygments_lexer": "ipython2",
   "version": "2.7.6"
  }
 },
 "nbformat": 4,
 "nbformat_minor": 5
}
