{
 "cells": [
  {
   "cell_type": "markdown",
   "source": [
    "# 生命数字\n",
    "## 什么是生命数字？\n",
    "简单来说，这是一种根据真实生日对人格的划分。这种方法将人们划分为9种大致的性格。个人认为有一定参考价值，但仅限于此。\n",
    "\n",
    "## 为什么选择生命数字？\n",
    "因为简单\n",
    "\n",
    "## 计算方法\n",
    "生命数字的计算方法很简单。即将你的生日中的数字依次加起来，多次迭代到只剩下一位数字的时候，即是你的生命数字。\n",
    "例如：我的生日 1999 08 13\n",
    "1. 19990813\n",
    "2. 1+9+9+9+0+8+1+3 = 40\n",
    "3. 4+0 = 4 $\\rightarrow$ 4就是我的生命数字"
   ],
   "metadata": {
    "collapsed": false
   },
   "id": "79cfa4cae457b094"
  },
  {
   "cell_type": "markdown",
   "source": [
    "> 首先，我们来思考一下我们该如何完成这个计算。\n",
    "> 不难看出，其计算方法就是将每个数字相加，一直相加直到只剩下一位数字。\n",
    "> 所以我们分两步完成。先进行相加"
   ],
   "metadata": {
    "collapsed": false
   },
   "id": "6aef575f66f9d003"
  },
  {
   "cell_type": "code",
   "execution_count": 1,
   "outputs": [],
   "source": [
    "def calc(num: str):\n",
    "    num = [int(i) for i in num]\n",
    "    return str(sum(num))"
   ],
   "metadata": {
    "collapsed": false,
    "ExecuteTime": {
     "end_time": "2023-08-07T07:20:19.738437400Z",
     "start_time": "2023-08-07T07:20:19.721481900Z"
    }
   },
   "id": "bd3151e64b7f2516"
  },
  {
   "cell_type": "markdown",
   "source": [
    "宝子们可以先试着理解一下这个函数是什么意思。\n",
    "\n",
    "首先在第一行代码中，我们**声明**了一个函数名叫`calc`（calculate的缩写），它需要接收一个 *类型* 为`str`的，*名*为`num`的参数。\n",
    "\n",
    "然后第二行代码中，我们通过一个简写的方式，将传入的字符串`num`拆分开，让它变为一个全部是整数的数组。\n",
    "\n",
    "> Tips: 宝子们在自己动手的时候，可以在第二行后插入一行`print(num)`来观察每一步的变化\n",
    "\n",
    "最后一行代码中，先通过`sum`函数对第二行代码中产生的列表进行求和操作，然后使用`str`将其转换为字符串形式"
   ],
   "metadata": {
    "collapsed": false
   },
   "id": "859cb6be05355575"
  },
  {
   "cell_type": "markdown",
   "source": [
    "上述过程中说到的两步操作，我们已经完成了一半。那么接下来我们来完成最后一部。\n",
    "\n",
    "首先，毋庸置疑的，由于不确定一个数字到底要循环多少次，我们肯定不能写成硬编码的形式（比如说我们把同一段代码复制粘贴5次）。这是一种很笨且不可取的操作。\n",
    "那么Python中常用到的两种循环，`while`循环 和 `for`循环。\n",
    "\n",
    "两只之间有何区别呢？\n",
    "while 循环基于条件，而 for 循环基于指定次数\n",
    "更简单一点，就好比吃饭。\n",
    "\n",
    "while 没饱: 来上一口\n",
    "那么你会一直吃到饱\n",
    "\n",
    "for 10: 来上一口\n",
    "你只能吃10口\n",
    "\n",
    "（这是一个吃货不友好例子）"
   ],
   "metadata": {
    "collapsed": false
   },
   "id": "23b86aa91f198328"
  },
  {
   "cell_type": "code",
   "execution_count": 2,
   "outputs": [],
   "source": [
    "dob = input(\"生日：\")\n",
    "while True:\n",
    "    dob = calc(dob)\n",
    "    if len(dob) == 1:\n",
    "        break"
   ],
   "metadata": {
    "collapsed": false,
    "ExecuteTime": {
     "end_time": "2023-08-07T07:20:24.487636500Z",
     "start_time": "2023-08-07T07:20:19.743422900Z"
    }
   },
   "id": "b92e3872707c47ea"
  },
  {
   "cell_type": "markdown",
   "source": [
    "来看代码，\n",
    "第一行，通过`input`函数获取用户输入，并将字符串保存到变量`dob`中。\n",
    "第2-5行，开始`while`循环。首先会调用我们之前写好的`calc`函数，将我们输入的生日放进函数当中进行计算，并将计算出来的结果重新存入（覆盖）原来的`dob`函数。然后用一个if来判断新的`dob`变量的长度（注意，此时的`dob`变量是一个字符串。当新的`dob`变量长度为1时，结束循环。"
   ],
   "metadata": {
    "collapsed": false
   },
   "id": "7d3744a5faac4fce"
  },
  {
   "cell_type": "code",
   "execution_count": 3,
   "outputs": [
    {
     "data": {
      "text/plain": "'4'"
     },
     "execution_count": 3,
     "metadata": {},
     "output_type": "execute_result"
    }
   ],
   "source": [
    "dob"
   ],
   "metadata": {
    "collapsed": false,
    "ExecuteTime": {
     "end_time": "2023-08-07T07:20:24.510575900Z",
     "start_time": "2023-08-07T07:20:24.486640600Z"
    }
   },
   "id": "246d298ccbf4ef82"
  }
 ],
 "metadata": {
  "kernelspec": {
   "display_name": "Python 3",
   "language": "python",
   "name": "python3"
  },
  "language_info": {
   "codemirror_mode": {
    "name": "ipython",
    "version": 2
   },
   "file_extension": ".py",
   "mimetype": "text/x-python",
   "name": "python",
   "nbconvert_exporter": "python",
   "pygments_lexer": "ipython2",
   "version": "2.7.6"
  }
 },
 "nbformat": 4,
 "nbformat_minor": 5
}
